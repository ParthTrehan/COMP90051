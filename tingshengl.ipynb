{
 "cells": [
  {
   "cell_type": "markdown",
   "metadata": {},
   "source": [
    "# COMP90051 Project 2"
   ]
  },
  {
   "cell_type": "code",
   "execution_count": 1,
   "metadata": {},
   "outputs": [],
   "source": [
    "# Do not edit. These are the only imports permitted.\n",
    "%matplotlib inline\n",
    "import numpy as np\n",
    "from numpy.linalg import inv\n",
    "import matplotlib.pyplot as plt\n",
    "from abc import ABCMeta, abstractmethod"
   ]
  },
  {
   "cell_type": "markdown",
   "metadata": {},
   "source": [
    "## 1. Implement $\\epsilon$-Greedy and UCB\n",
    "\n",
    "Reasons to change this super class\n",
    "* Usage of ABC may cause the problem of multiple inheritance, and it will be redundant in the subclasses (which requires an extra slot in ```cls.__mro__```), meta-class is a better choice\n",
    "* I decided to put one of the initialisation (the ```self.narms``` attribute) into the super class since all subclasses require this\n",
    "* Usage of ```cls.__slots__``` forbids creation of ```cls.__dict__```, which will allow fast access of members and make the storage of object more compact and also avoid potential typos of attribute names"
   ]
  },
  {
   "cell_type": "code",
   "execution_count": 2,
   "metadata": {},
   "outputs": [],
   "source": [
    "class MAB(metaclass=ABCMeta):\n",
    "    \"\"\"\n",
    "    Abstract class that represents a multi-armed bandit (MAB)\n",
    "    \"\"\"\n",
    "    __slots__ = \"narms\"\n",
    "    \n",
    "    def __init__(self, narms):\n",
    "        self.narms = narms\n",
    "    \n",
    "    @abstractmethod\n",
    "    def play(self, tround, context):\n",
    "        \"\"\"\n",
    "        Play a round\n",
    "        \n",
    "        Arguments\n",
    "        =========\n",
    "        tround : int\n",
    "            positive integer identifying the round\n",
    "        \n",
    "        context : 1D float array, shape (self.ndims * self.narms), optional\n",
    "            context given to the arms\n",
    "        \n",
    "        Returns\n",
    "        =======\n",
    "        arm : int\n",
    "            the positive integer arm id for this round\n",
    "        \"\"\"\n",
    "    \n",
    "    @abstractmethod\n",
    "    def update(self, arm, reward, context):\n",
    "        \"\"\"\n",
    "        Updates the internal state of the MAB after a play\n",
    "        \n",
    "        Arguments\n",
    "        =========\n",
    "        arm : int\n",
    "            a positive integer arm id in {1, ..., self.narms}\n",
    "        \n",
    "        reward : float\n",
    "            reward received from arm\n",
    "        \n",
    "        context : 1D float array, shape (self.ndims * self.narms), optional\n",
    "            context given to arms\n",
    "        \"\"\"\n",
    "        \n",
    "    # This method is re-used in all subclasses\n",
    "    @staticmethod\n",
    "    def _choose(values):\n",
    "        return np.random.choice(\n",
    "            # recognise ties\n",
    "            np.argwhere(values == values.max()).flatten()\n",
    "        )"
   ]
  },
  {
   "cell_type": "markdown",
   "metadata": {},
   "source": [
    "### $\\epsilon$-Greedy"
   ]
  },
  {
   "cell_type": "code",
   "execution_count": 3,
   "metadata": {},
   "outputs": [],
   "source": [
    "class EpsGreedy(MAB):\n",
    "    \"\"\"\n",
    "    Epsilon-Greedy multi-armed bandit\n",
    "\n",
    "    Arguments\n",
    "    =========\n",
    "    narms : int\n",
    "        number of arms\n",
    "\n",
    "    epsilon : float\n",
    "        explore probability\n",
    "\n",
    "    Q0 : float, optional\n",
    "        initial value for the arms\n",
    "    \"\"\"\n",
    "    \n",
    "    __slots__ = \"counts\", \"epsilon\", \"Q0\", \"rewards\"\n",
    "    \n",
    "    def __init__(self, narms, epsilon, Q0=np.inf):\n",
    "        super().__init__(narms)\n",
    "        self.epsilon = epsilon\n",
    "        self.Q0 = Q0\n",
    "        self.counts = np.zeros(narms, np.uint64)\n",
    "        self.rewards = np.zeros(narms, np.float64)\n",
    "        \n",
    "    def play(self, tround, context=None):\n",
    "        if np.random.random() > self.epsilon:\n",
    "            # initialise an array of Q0\n",
    "            values = np.full(self.narms, self.Q0, np.float64)\n",
    "            counts = self.counts\n",
    "            # determine all arms which has ever been selected before\n",
    "            selected = (counts > 0).nonzero()\n",
    "            # compute Q\n",
    "            values[selected] = self.rewards[selected] / counts[selected]\n",
    "            return self._choose(values)\n",
    "        \n",
    "        # a random play is made\n",
    "        return np.random.randint(0, self.narms)\n",
    "        \n",
    "    def update(self, arm, reward, context=None):\n",
    "        self.counts[arm] += 1\n",
    "        self.rewards[arm] += reward"
   ]
  },
  {
   "cell_type": "markdown",
   "metadata": {},
   "source": [
    "### UCB"
   ]
  },
  {
   "cell_type": "code",
   "execution_count": 4,
   "metadata": {},
   "outputs": [],
   "source": [
    "class UCB(MAB):\n",
    "    \"\"\"\n",
    "    Upper Confidence Bound (UCB) multi-armed bandit\n",
    "\n",
    "    Arguments\n",
    "    =========\n",
    "    narms : int\n",
    "        number of arms\n",
    "\n",
    "    rho : float\n",
    "        positive real explore-exploit parameter\n",
    "\n",
    "    Q0 : float, optional\n",
    "        initial value for the arms\n",
    "    \"\"\"\n",
    "    \n",
    "    __slots__ = \"counts\", \"Q0\", \"rewards\", \"rho\"\n",
    "    \n",
    "    def __init__(self, narms, rho, Q0=np.inf):\n",
    "        super().__init__(narms)\n",
    "        self.rho = rho\n",
    "        self.Q0 = Q0\n",
    "        self.counts = np.zeros(narms, np.uint64)\n",
    "        self.rewards = np.zeros(narms, np.float64)\n",
    "    \n",
    "    def play(self, tround, context=None):\n",
    "        # as above\n",
    "        values = np.full(self.narms, self.Q0, np.float64)\n",
    "        counts = self.counts\n",
    "        selected = (counts > 0).nonzero()\n",
    "        sc = counts[selected]\n",
    "        # apply the formula\n",
    "        values[selected] = self.rewards[selected] / sc + np.sqrt(self.rho * np.log(tround) / sc)\n",
    "        return self._choose(values)\n",
    "        \n",
    "    def update(self, arm, reward, context=None):\n",
    "        self.counts[arm] += 1\n",
    "        self.rewards[arm] += reward"
   ]
  },
  {
   "cell_type": "markdown",
   "metadata": {},
   "source": [
    "## 2. Off-Policy Evaluation"
   ]
  },
  {
   "cell_type": "code",
   "execution_count": 5,
   "metadata": {},
   "outputs": [],
   "source": [
    "def offlineEvaluate(mab, arms, rewards, contexts, nrounds=None):\n",
    "    \"\"\"\n",
    "    Offline evaluation of a multi-armed bandit\n",
    "    \n",
    "    Arguments\n",
    "    =========\n",
    "    mab : instance of MAB\n",
    "    \n",
    "    arms : 1D int array, shape (nevents,) \n",
    "        integer arm id for each event\n",
    "    \n",
    "    rewards : 1D float array, shape (nevents,)\n",
    "        reward received for each event\n",
    "    \n",
    "    contexts : 2D float array, shape (nevents, mab.narms*nfeatures)\n",
    "        contexts presented to the arms (stacked horizontally) \n",
    "        for each event.\n",
    "        \n",
    "    nrounds : int, optional\n",
    "        number of matching events to evaluate `mab` on.\n",
    "    \n",
    "    Returns\n",
    "    =======\n",
    "    out : 1D float array\n",
    "        rewards for the matching events\n",
    "    \"\"\"\n",
    "    R = np.zeros(nrounds, np.float64)\n",
    "    \n",
    "    # use iterator for fast iteration\n",
    "    itarm = iter(arms)\n",
    "    itreward = iter(rewards)\n",
    "    itcontexts = iter(contexts)\n",
    "    for tround in range(nrounds):\n",
    "        arm, reward, context = next(itarm), next(itreward), next(itcontexts)\n",
    "        \n",
    "        # find matching play\n",
    "        while mab.play(tround + 1, context) + 1 != arm:\n",
    "            arm, reward, context = next(itarm), next(itreward), next(itcontexts)\n",
    "        \n",
    "        # perform update\n",
    "        mab.update(arm - 1, reward, context)\n",
    "        R[tround] += reward\n",
    "    \n",
    "    return R"
   ]
  },
  {
   "cell_type": "markdown",
   "metadata": {},
   "source": [
    "### Read file"
   ]
  },
  {
   "cell_type": "code",
   "execution_count": 6,
   "metadata": {},
   "outputs": [],
   "source": [
    "txt = np.loadtxt(\"dataset.txt\", np.int64)\n",
    "arms, rewards, contexts = txt[:, 0], txt[:, 1], txt[:, 2:]"
   ]
  },
  {
   "cell_type": "markdown",
   "metadata": {},
   "source": [
    "### Evaluation"
   ]
  },
  {
   "cell_type": "code",
   "execution_count": 7,
   "metadata": {},
   "outputs": [
    {
     "name": "stdout",
     "output_type": "stream",
     "text": [
      "EpsGreedy average reward 0.265\n"
     ]
    }
   ],
   "source": [
    "mab = EpsGreedy(10, 0.05)\n",
    "results_EpsGreedy = offlineEvaluate(mab, arms, rewards, contexts, 800)\n",
    "print('EpsGreedy average reward', results_EpsGreedy.mean())"
   ]
  },
  {
   "cell_type": "code",
   "execution_count": 9,
   "metadata": {},
   "outputs": [
    {
     "name": "stdout",
     "output_type": "stream",
     "text": [
      "UCB average reward 0.1775\n"
     ]
    }
   ],
   "source": [
    "mab = UCB(10, 1.0)\n",
    "results_UCB = offlineEvaluate(mab, arms, rewards, contexts, 800)\n",
    "print('UCB average reward', results_UCB.mean())"
   ]
  },
  {
   "cell_type": "markdown",
   "metadata": {},
   "source": [
    "## 3. Contextual Bandits"
   ]
  },
  {
   "cell_type": "code",
   "execution_count": 8,
   "metadata": {},
   "outputs": [],
   "source": [
    "class LinUCB(MAB):\n",
    "    \"\"\"\n",
    "    Contextual multi-armed bandit (LinUCB)\n",
    "\n",
    "    Arguments\n",
    "    =========\n",
    "    narms : int\n",
    "        number of arms\n",
    "\n",
    "    ndims : int\n",
    "        number of dimensions for each arm's context\n",
    "\n",
    "    alpha : float\n",
    "        positive real explore-exploit parameter\n",
    "    \"\"\"\n",
    "    \n",
    "    __slots__ = \"alpha\", \"As\", \"bs\", \"ndims\"\n",
    "    \n",
    "    def __init__(self, narms, ndims, alpha):\n",
    "        super().__init__(narms)\n",
    "        self.ndims = ndims\n",
    "        self.alpha = alpha\n",
    "        self.As = [np.eye(ndims) for _ in range(narms)]\n",
    "        self.bs = [np.zeros(ndims) for _ in range(narms)]\n",
    "        \n",
    "    def play(self, tround, context):\n",
    "        return self._choose(np.fromiter((\n",
    "            Ai.dot(b).dot(x) + self.alpha * np.sqrt(x.T.dot(Ai).dot(x))\n",
    "            for x, Ai, b in zip(\n",
    "                # reshape the context to (narms, ndims)\n",
    "                context.reshape(self.narms, self.ndims),\n",
    "                # we only use the inverse of the matrix in the computation\n",
    "                map(inv, self.As),\n",
    "                self.bs\n",
    "            )\n",
    "        ), np.float64))\n",
    "    \n",
    "    def update(self, arm, reward, context):\n",
    "        ndims = self.ndims\n",
    "        start = arm * ndims\n",
    "        # extract the segment of features of the specific arm\n",
    "        context = context[start:start + ndims]\n",
    "        self.bs[arm] += reward * context\n",
    "        # context is an array so reshape it to a 1d vector\n",
    "        context = context.reshape(1, ndims)\n",
    "        # perform matrix multiplication, same effect as np.dot\n",
    "        self.As[arm] += context.T.dot(context)"
   ]
  },
  {
   "cell_type": "markdown",
   "metadata": {},
   "source": [
    "### Evaluation"
   ]
  },
  {
   "cell_type": "code",
   "execution_count": 10,
   "metadata": {},
   "outputs": [
    {
     "name": "stdout",
     "output_type": "stream",
     "text": [
      "LinUCB average reward 0.53\n"
     ]
    }
   ],
   "source": [
    "mab = LinUCB(10, 10, 1.0)\n",
    "results_LinUCB = offlineEvaluate(mab, arms, rewards, contexts, 800)\n",
    "print('LinUCB average reward', results_LinUCB.mean())"
   ]
  },
  {
   "cell_type": "markdown",
   "metadata": {},
   "source": [
    "## 4. Evaluation\n",
    "### 4.A."
   ]
  },
  {
   "cell_type": "code",
   "execution_count": 11,
   "metadata": {},
   "outputs": [
    {
     "data": {
      "image/png": "[encoded data removed]",
      "text/plain": [
       "<Figure size 432x288 with 1 Axes>"
      ]
     },
     "metadata": {
      "needs_background": "light"
     },
     "output_type": "display_data"
    }
   ],
   "source": [
    "# T starts from 1\n",
    "xaxis = np.arange(1, 801)\n",
    "ax = plt.figure().subplots()\n",
    "ax.plot(xaxis, results_EpsGreedy.cumsum() / xaxis)\n",
    "ax.plot(xaxis, results_UCB.cumsum() / xaxis)\n",
    "ax.plot(xaxis, results_LinUCB.cumsum() / xaxis)\n",
    "ax.legend(labels=(\"Epsilon Greedy\", \"UCB\", \"Linear UCB\"))\n",
    "ax.set_xlabel(\"Number of Rounds\")\n",
    "ax.set_ylabel(\"Average Reward\")\n",
    "plt.show()"
   ]
  },
  {
   "cell_type": "markdown",
   "metadata": {},
   "source": [
    "### 4.B."
   ]
  },
  {
   "cell_type": "code",
   "execution_count": 12,
   "metadata": {},
   "outputs": [],
   "source": [
    "alphas = np.linspace(0, 10, 101, dtype=np.float64)\n",
    "\n",
    "\n",
    "def _eval(alpha):\n",
    "    # avoid potential overhead of lambda function\n",
    "    return offlineEvaluate(LinUCB(10, 10, alpha), arms, rewards, contexts, 800).mean()\n",
    "\n",
    "\n",
    "scores = np.vectorize(_eval)(alphas)"
   ]
  },
  {
   "cell_type": "code",
   "execution_count": 13,
   "metadata": {},
   "outputs": [
    {
     "data": {
      "image/png": "[encoded data removed]",
      "text/plain": [
       "<Figure size 432x288 with 1 Axes>"
      ]
     },
     "metadata": {
      "needs_background": "light"
     },
     "output_type": "display_data"
    }
   ],
   "source": [
    "ax = plt.figure().subplots()\n",
    "ax.plot(alphas, scores)\n",
    "ax.set_xlabel(r\"$\\alpha$\")\n",
    "ax.set_ylabel(\"scores\")\n",
    "plt.show()"
   ]
  },
  {
   "cell_type": "code",
   "execution_count": 14,
   "metadata": {},
   "outputs": [
    {
     "name": "stdout",
     "output_type": "stream",
     "text": [
      "[0.70875]\n",
      "[0.1]\n"
     ]
    }
   ],
   "source": [
    "maxpos = (scores == scores.max()).nonzero()\n",
    "print(scores[maxpos])\n",
    "print(alphas[maxpos])"
   ]
  },
  {
   "cell_type": "markdown",
   "metadata": {},
   "source": [
    "## 5. KernelUCB"
   ]
  },
  {
   "cell_type": "code",
   "execution_count": 18,
   "metadata": {},
   "outputs": [],
   "source": [
    "# Do not edit. Special import for this section.\n",
    "from sklearn.metrics.pairwise import rbf_kernel"
   ]
  },
  {
   "cell_type": "code",
   "execution_count": 16,
   "metadata": {},
   "outputs": [],
   "source": [
    "class KernelUCB(MAB):\n",
    "    \"\"\"\n",
    "    Kernelised contextual multi-armed bandit (Kernelised LinUCB)\n",
    "    \n",
    "    Arguments\n",
    "    =========\n",
    "    narms : int\n",
    "        number of arms\n",
    "\n",
    "    ndims : int\n",
    "        number of dimensions for each arm's context\n",
    "\n",
    "    gamma : float\n",
    "        positive real explore-exploit parameter\n",
    "    \n",
    "    eta : float\n",
    "        positive real explore-exploit parameter\n",
    "    \n",
    "    kern : callable\n",
    "        a kernel function from sklearn.metrics.pairwise\n",
    "    \"\"\"\n",
    "    \n",
    "    __slots__ = \"ndims\", \"gamma\", \"eta\", \"kern\", \"Ki\", \"xts\", \"ys\"\n",
    "    \n",
    "    def __init__(self, narms, ndims, gamma, eta, kern):\n",
    "        super().__init__(narms)\n",
    "        self.ndims = ndims\n",
    "        self.gamma = gamma\n",
    "        self.eta = eta\n",
    "        self.kern = kern\n",
    "        self.Ki = None\n",
    "        self.xts = []\n",
    "        self.ys = []\n",
    "        \n",
    "    def _compute(self, x, t):\n",
    "        Ki = self.Ki\n",
    "        # re-usable values\n",
    "        kxt = self.kern(x, self.xts)\n",
    "        kxtKi = kxt.dot(Ki)\n",
    "        return kxtKi.dot(self.ys) + self.eta * np.sqrt(\n",
    "            (self.kern(x, x) - kxtKi.dot(kxt.T)) / self.gamma\n",
    "        )\n",
    "    \n",
    "    def play(self, tround, context):\n",
    "        # first round always return the first arm\n",
    "        if tround == 1:\n",
    "            return 0\n",
    "        \n",
    "        ndims = self.ndims\n",
    "        return self._choose(\n",
    "            np.fromiter(\n",
    "                (\n",
    "                    # reshape the x vector for computation\n",
    "                    self._compute(x.reshape(1, ndims), tround)\n",
    "                    # reshape context to obtain a (narms, ndims) matrix\n",
    "                    for x in context.reshape(self.narms, ndims)\n",
    "                ),\n",
    "                np.float64\n",
    "            )\n",
    "        )\n",
    "    \n",
    "    def update(self, arm, reward, context):\n",
    "        gamma = self.gamma\n",
    "        kern = self.kern\n",
    "        Ki = self.Ki\n",
    "        ndims = self.ndims\n",
    "        xts = self.xts\n",
    "        start = arm * ndims\n",
    "        _x = context[start:start + ndims]\n",
    "        # reshape to a (1, ndims) vector for computation\n",
    "        x = _x.reshape(1, ndims)\n",
    "        xkern = kern(x, x)\n",
    "        if Ki is None:\n",
    "            # initialise kernel matrix inverse\n",
    "            self.Ki = inv(xkern + gamma)\n",
    "        else:\n",
    "            # compute all re-usable values\n",
    "            kxt = kern(x, xts)\n",
    "            kxtT = kxt.T\n",
    "            kxtKi = kxt.dot(Ki)\n",
    "            KikxtT = Ki.dot(kxtT)\n",
    "            # multiplicative associativity, ABC = A(BC) => ABCD = (AB)(CD)\n",
    "            K22 = 1 / (xkern + gamma - kxtKi.dot(kxtT))\n",
    "            K11 = Ki + K22 * KikxtT.dot(kxtKi)\n",
    "            K12 = -K22 * KikxtT\n",
    "            K21 = -K22 * kxtKi\n",
    "            \n",
    "            # perform blocking\n",
    "            self.Ki = np.block([[K11, K12], [K21, K22]])\n",
    "        \n",
    "        xts.append(_x)\n",
    "        self.ys.append(reward)"
   ]
  },
  {
   "cell_type": "markdown",
   "metadata": {},
   "source": [
    "### Evaluation"
   ]
  },
  {
   "cell_type": "code",
   "execution_count": 19,
   "metadata": {},
   "outputs": [
    {
     "name": "stdout",
     "output_type": "stream",
     "text": [
      "KernelUCB average reward 0.38625\n"
     ]
    }
   ],
   "source": [
    "mab = KernelUCB(10, 10, 0.5, 1.0, rbf_kernel)\n",
    "results_KernelUCB = offlineEvaluate(mab, arms, rewards, contexts, 800)\n",
    "print('KernelUCB average reward', results_KernelUCB.mean())"
   ]
  },
  {
   "cell_type": "markdown",
   "metadata": {},
   "source": [
    "### Grid Search"
   ]
  },
  {
   "cell_type": "code",
   "execution_count": null,
   "metadata": {},
   "outputs": [],
   "source": [
    "gammas = np.linspace(0.1, 1, 10, dtype=np.float64)\n",
    "etas = np.linspace(0, 1, 11, dtype=np.float64)\n",
    "\n",
    "_gammas, _etas = np.meshgrid(gammas, etas)\n",
    "\n",
    "\n",
    "def _eval(gamma, eta):\n",
    "    # avoid potential overhead of lambda function\n",
    "    return offlineEvaluate(KernelUCB(10, 10, gamma, eta, rbf_kernel), arms, rewards, contexts, 800).mean()\n",
    "\n",
    "\n",
    "scores = np.vectorize(_eval)(_gammas, _etas)"
   ]
  },
  {
   "cell_type": "code",
   "execution_count": null,
   "metadata": {},
   "outputs": [],
   "source": [
    "ax = plt.figure().subplots()\n",
    "\n",
    "try:\n",
    "    import seaborn as sns\n",
    "\n",
    "    sns.heatmap(scores, xticklabels=np.arange(11) / 10, yticklabels=np.arange(1, 11) / 10)\n",
    "except ImportError:\n",
    "    ax.imshow(scores)\n",
    "    ax.set_xticklabels(np.arange(-2, 11, 2) / 10)\n",
    "    ax.set_yticklabels(np.arange(-1, 10, 2) / 10)\n",
    "\n",
    "ax.set_xlabel(r\"$\\eta$\")\n",
    "ax.set_ylabel(r\"$\\gamma$\")\n",
    "plt.show()"
   ]
  },
  {
   "cell_type": "code",
   "execution_count": null,
   "metadata": {},
   "outputs": [],
   "source": [
    "maxpos = np.nonzero(scores == scores.max())\n",
    "print(scores[maxpos])\n",
    "print(_gammas[maxpos])\n",
    "print(_etas[maxpos])"
   ]
  },
  {
   "cell_type": "code",
   "execution_count": null,
   "metadata": {},
   "outputs": [],
   "source": []
  }
 ],
 "metadata": {
  "kernelspec": {
   "display_name": "Python [default]",
   "language": "python",
   "name": "python3"
  },
  "language_info": {
   "codemirror_mode": {
    "name": "ipython",
    "version": 3
   },
   "file_extension": ".py",
   "mimetype": "text/x-python",
   "name": "python",
   "nbconvert_exporter": "python",
   "pygments_lexer": "ipython3",
   "version": "3.6.6"
  }
 },
 "nbformat": 4,
 "nbformat_minor": 2
}
