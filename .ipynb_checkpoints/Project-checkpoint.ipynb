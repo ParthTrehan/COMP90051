{
 "cells": [
  {
   "cell_type": "markdown",
   "metadata": {},
   "source": [
    "# COMP90051 Project 1\n",
    "##### Author: Tingsheng Lai 781319 (Tinson)\n",
    "##### Data Created: 19/08/2018\n",
    "## Imports"
   ]
  },
  {
   "cell_type": "code",
   "execution_count": 1,
   "metadata": {},
   "outputs": [],
   "source": [
    "from numpy import uint8\n",
    "from scipy.sparse import dok_matrix, csr_matrix"
   ]
  },
  {
   "cell_type": "markdown",
   "metadata": {},
   "source": [
    "## Extract Training Data"
   ]
  },
  {
   "cell_type": "code",
   "execution_count": 2,
   "metadata": {},
   "outputs": [],
   "source": [
    "rel = {}\n",
    "with open(\"train.txt\", 'r') as f:\n",
    "    for line in f.read().split('\\n'):\n",
    "        line = line.split()\n",
    "        if line:\n",
    "            rel[int(line[0])] = [int(i) for i in line[1:]]\n",
    "\n",
    "vertices = set()\n",
    "for k, v in rel.items():\n",
    "    vertices.add(k)\n",
    "    vertices.update(v)\n",
    "max_id = max(vertices) + 1\n",
    "# release vertices\n",
    "vertices = None"
   ]
  },
  {
   "cell_type": "markdown",
   "metadata": {},
   "source": [
    "## Construct Sparse (Compressed Sparse Row) Matrix"
   ]
  },
  {
   "cell_type": "code",
   "execution_count": null,
   "metadata": {},
   "outputs": [],
   "source": [
    "rels = dok_matrix((max_id, max_id), dtype=uint8)\n",
    "for src, sinks in rel.items():\n",
    "    rels[src, sinks] = 1\n",
    "        \n",
    "rels = rels.tocsr()\n",
    "# release the original dictionary\n",
    "rel = None"
   ]
  },
  {
   "cell_type": "code",
   "execution_count": null,
   "metadata": {},
   "outputs": [],
   "source": []
  }
 ],
 "metadata": {
  "kernelspec": {
   "display_name": "Python 3",
   "language": "python",
   "name": "python3"
  },
  "language_info": {
   "codemirror_mode": {
    "name": "ipython",
    "version": 3
   },
   "file_extension": ".py",
   "mimetype": "text/x-python",
   "name": "python",
   "nbconvert_exporter": "python",
   "pygments_lexer": "ipython3",
   "version": "3.6.6"
  }
 },
 "nbformat": 4,
 "nbformat_minor": 2
}
