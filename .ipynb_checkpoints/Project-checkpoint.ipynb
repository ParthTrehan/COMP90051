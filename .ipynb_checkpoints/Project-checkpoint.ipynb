{
 "cells": [
  {
   "cell_type": "markdown",
   "metadata": {},
   "source": [
    "# COMP90051 Project 1\n",
    "\n",
    "##### Author: Tingsheng Lai 781319 (Tinson)\n",
    "\n",
    "##### Date Created: 19/08/2018\n",
    "\n",
    "## Extract Training Data"
   ]
  },
  {
   "cell_type": "code",
   "execution_count": 1,
   "metadata": {},
   "outputs": [],
   "source": [
    "from networkx import DiGraph\n",
    "\n",
    "G = DiGraph()\n",
    "with open(\"train.txt\", 'r') as f:\n",
    "    for line in f.read().split('\\n'):\n",
    "        line = [int(i) for i in line.split()]\n",
    "        if line:\n",
    "            G.add_edges_from((line[0], i) for i in line[1:])"
   ]
  },
  {
   "cell_type": "markdown",
   "metadata": {},
   "source": [
    "## Util Functions"
   ]
  },
  {
   "cell_type": "code",
   "execution_count": 2,
   "metadata": {},
   "outputs": [],
   "source": [
    "import math\n",
    "from networkx.algorithms.simple_paths import all_simple_paths\n",
    "\n",
    "def neighbour_features(p1, p2):\n",
    "    ns1, ns2 = set(G.successors(p1)), set(G.successors(p2))\n",
    "    lns1, lns2 = len(ns1), len(ns2)\n",
    "    cn = ns1.intersection(ns2)\n",
    "    lcn = len(cn)\n",
    "    def _helper(x):\n",
    "        lsx = G.degree(x)\n",
    "        return 1 / lsx if lsx > 0 else 0\n",
    "    # (Common, Jaccard, Adamic/Adar, Preferential)\n",
    "    return lcn, lcn / len(ns1.union(ns2)), sum(_helper(i) for i in cn), lns1 * lns2\n",
    "\n",
    "def katz(p1, p2, beta=0.5, cutoff=2):\n",
    "    pls = {}\n",
    "    for path in all_simple_paths(G, p1, p2, cutoff):\n",
    "        lp = len(path)\n",
    "        pls[lp] = pls.get(lp, 0) + 1\n",
    "    return sum(beta**l * c for l, c in pls.items())"
   ]
  },
  {
   "cell_type": "markdown",
   "metadata": {},
   "source": [
    "## Model\n",
    "### Initialisation"
   ]
  },
  {
   "cell_type": "code",
   "execution_count": 8,
   "metadata": {},
   "outputs": [],
   "source": [
    "from keras import Sequential\n",
    "from keras.layers import Dense\n",
    "\n",
    "model = Sequential()\n",
    "model.add(Dense(100, input_shape=(6,)))\n",
    "model.add(Dense(100))\n",
    "model.add(Dense(1, activation=\"sigmoid\"))\n",
    "model.compile(\"sgd\", \"mean_squared_error\")"
   ]
  },
  {
   "cell_type": "markdown",
   "metadata": {},
   "source": [
    "### Training"
   ]
  },
  {
   "cell_type": "code",
   "execution_count": 11,
   "metadata": {},
   "outputs": [],
   "source": [
    "import math\n",
    "import numpy as np\n",
    "from networkx.algorithms.shortest_paths.unweighted import single_source_shortest_path_length\n",
    "\n",
    "for src in G:\n",
    "    spls = single_source_shortest_path_length(G, src)\n",
    "    nodes = list(G)\n",
    "    ln = len(nodes)\n",
    "    curr = 0\n",
    "    while curr < ln:\n",
    "        data = np.array([(-spls.get(dest, 0), *neighbour_features(src, dest), katz(src, dest), dest in G.successors(src)) for dest in nodes[curr:curr + 64]])\n",
    "        model.fit(data[:, :-1], data[:, -1], epochs=2)\n",
    "        curr += 64"
   ]
  },
  {
   "cell_type": "code",
   "execution_count": 21,
   "metadata": {},
   "outputs": [
    {
     "name": "stdout",
     "output_type": "stream",
     "text": [
      "1: (3, 0, 0.0, 0, 0, 0) [[0.00059378]]\n",
      "2: (2, 0, 0.0, 0, 0, 0.25) [[0.00548263]]\n",
      "3: (3, 0, 0.0, 0, 0, 0) [[0.00059378]]\n",
      "4: (2, 5, 0.053763440860215055, 0.020287496541954657, 1176, 0.5) [[5.3243605e-19]]\n",
      "5: (3, 6, 0.018808777429467086, 0.006220485861005233, 15486, 0) [[0.]]\n",
      "6: (2, 8, 0.026845637583892617, 0.020926719347548108, 2673, 1.0) [[0.]]\n",
      "7: (2, 0, 0.0, 0, 0, 0.125) [[0.00565327]]\n",
      "8: (2, 0, 0.0, 0, 0, 0.125) [[0.00565327]]\n",
      "9: (3, 0, 0.0, 0, 0, 0) [[0.00059378]]\n",
      "10: (3, 0, 0.0, 0, 0, 0) [[0.00059378]]\n",
      "11: (2, 0, 0.0, 0, 0, 0.375) [[0.00531711]]\n",
      "12: (2, 0, 0.0, 0, 0, 0.125) [[0.00565327]]\n",
      "13: (3, 0, 0.0, 0, 0, 0) [[0.00059378]]\n",
      "14: (2, 0, 0.0, 0, 0, 0.125) [[0.00565327]]\n",
      "15: (2, 4, 0.002711864406779661, 0.010785728624617685, 264368, 0.25) [[0.]]\n",
      "16: (3, 0, 0.0, 0, 0, 0) [[0.00059378]]\n",
      "17: (2, 4, 0.001756697408871322, 0.0011884919012019937, 362748, 0.125) [[0.]]\n",
      "18: (3, 0, 0.0, 0, 0, 0) [[0.00059378]]\n",
      "19: (3, 0, 0.0, 0, 0, 0) [[0.00059378]]\n",
      "20: (2, 0, 0.0, 0, 0, 0.25) [[0.00548263]]\n",
      "21: (3, 0, 0.0, 0, 0, 0) [[0.00059378]]\n",
      "22: (3, 0, 0.0, 0, 0, 0) [[0.00059378]]\n",
      "23: (4, 0, 0.0, 0, 0, 0) [[6.01993e-05]]\n",
      "24: (2, 0, 0.0, 0, 0, 2.25) [[0.00335545]]\n",
      "25: (3, 0, 0.0, 0, 0, 0) [[0.00059378]]\n",
      "26: (2, 0, 0.0, 0, 0, 0.25) [[0.00548263]]\n",
      "27: (3, 0, 0.0, 0, 0, 0) [[0.00059378]]\n",
      "28: (2, 0, 0.0, 0, 0, 0.375) [[0.00531711]]\n",
      "29: (2, 4, 0.0069084628670120895, 0.0009604836686036222, 49062, 0.25) [[0.]]\n",
      "30: (2, 0, 0.0, 0, 26724, 0.125) [[0.]]\n",
      "31: (3, 0, 0.0, 0, 0, 0) [[0.00059378]]\n",
      "32: (3, 0, 0.0, 0, 0, 0) [[0.00059378]]\n",
      "33: (2, 0, 0.0, 0, 0, 0.25) [[0.00548263]]\n",
      "34: (2, 0, 0.0, 0, 0, 0.25) [[0.00548263]]\n",
      "35: (3, 0, 0.0, 0, 0, 0) [[0.00059378]]\n",
      "36: (3, 0, 0.0, 0, 0, 0) [[0.00059378]]\n",
      "37: (4, 0, 0.0, 0, 0, 0) [[6.01993e-05]]\n",
      "38: (3, 0, 0.0, 0, 0, 0) [[0.00059378]]\n",
      "39: (3, 0, 0.0, 0, 0, 0) [[0.00059378]]\n",
      "40: (3, 0, 0.0, 0, 0, 0) [[0.00059378]]\n",
      "41: (3, 0, 0.0, 0, 0, 0) [[0.00059378]]\n",
      "42: (2, 0, 0.0, 0, 0, 0.375) [[0.00531711]]\n",
      "43: (3, 0, 0.0, 0, 0, 0) [[0.00059378]]\n"
     ]
    },
    {
     "ename": "NetworkXNoPath",
     "evalue": "No path between 2574465 and 1663756.",
     "output_type": "error",
     "traceback": [
      "\u001b[1;31m---------------------------------------------------------------------------\u001b[0m",
      "\u001b[1;31mNetworkXNoPath\u001b[0m                            Traceback (most recent call last)",
      "\u001b[1;32m<ipython-input-21-fa70dcb4abf8>\u001b[0m in \u001b[0;36m<module>\u001b[1;34m()\u001b[0m\n\u001b[0;32m      6\u001b[0m         \u001b[1;32mif\u001b[0m \u001b[0mline\u001b[0m\u001b[1;33m:\u001b[0m\u001b[1;33m\u001b[0m\u001b[0m\n\u001b[0;32m      7\u001b[0m             \u001b[0mpid\u001b[0m\u001b[1;33m,\u001b[0m \u001b[0mp1\u001b[0m\u001b[1;33m,\u001b[0m \u001b[0mp2\u001b[0m \u001b[1;33m=\u001b[0m \u001b[1;33m[\u001b[0m\u001b[0mint\u001b[0m\u001b[1;33m(\u001b[0m\u001b[0mi\u001b[0m\u001b[1;33m)\u001b[0m \u001b[1;32mfor\u001b[0m \u001b[0mi\u001b[0m \u001b[1;32min\u001b[0m \u001b[0mline\u001b[0m\u001b[1;33m.\u001b[0m\u001b[0msplit\u001b[0m\u001b[1;33m(\u001b[0m\u001b[1;33m)\u001b[0m\u001b[1;33m]\u001b[0m\u001b[1;33m\u001b[0m\u001b[0m\n\u001b[1;32m----> 8\u001b[1;33m             \u001b[0mfeatures\u001b[0m \u001b[1;33m=\u001b[0m \u001b[0mbidirectional_dijkstra\u001b[0m\u001b[1;33m(\u001b[0m\u001b[0mG\u001b[0m\u001b[1;33m,\u001b[0m \u001b[0mp1\u001b[0m\u001b[1;33m,\u001b[0m \u001b[0mp2\u001b[0m\u001b[1;33m)\u001b[0m\u001b[1;33m[\u001b[0m\u001b[1;36m0\u001b[0m\u001b[1;33m]\u001b[0m\u001b[1;33m,\u001b[0m \u001b[1;33m*\u001b[0m\u001b[0mneighbour_features\u001b[0m\u001b[1;33m(\u001b[0m\u001b[0mp1\u001b[0m\u001b[1;33m,\u001b[0m \u001b[0mp2\u001b[0m\u001b[1;33m)\u001b[0m\u001b[1;33m,\u001b[0m \u001b[0mkatz\u001b[0m\u001b[1;33m(\u001b[0m\u001b[0mp1\u001b[0m\u001b[1;33m,\u001b[0m \u001b[0mp2\u001b[0m\u001b[1;33m)\u001b[0m\u001b[1;33m\u001b[0m\u001b[0m\n\u001b[0m\u001b[0;32m      9\u001b[0m             \u001b[0mprint\u001b[0m\u001b[1;33m(\u001b[0m\u001b[1;34mf\"{pid}: {features} {model.predict(np.array([features]))}\"\u001b[0m\u001b[1;33m)\u001b[0m\u001b[1;33m\u001b[0m\u001b[0m\n",
      "\u001b[1;32m~\\Anaconda3\\envs\\MLNN3\\lib\\site-packages\\networkx\\algorithms\\shortest_paths\\weighted.py\u001b[0m in \u001b[0;36mbidirectional_dijkstra\u001b[1;34m(G, source, target, weight)\u001b[0m\n\u001b[0;32m   2023\u001b[0m                         \u001b[0mrevpath\u001b[0m\u001b[1;33m.\u001b[0m\u001b[0mreverse\u001b[0m\u001b[1;33m(\u001b[0m\u001b[1;33m)\u001b[0m\u001b[1;33m\u001b[0m\u001b[0m\n\u001b[0;32m   2024\u001b[0m                         \u001b[0mfinalpath\u001b[0m \u001b[1;33m=\u001b[0m \u001b[0mpaths\u001b[0m\u001b[1;33m[\u001b[0m\u001b[1;36m0\u001b[0m\u001b[1;33m]\u001b[0m\u001b[1;33m[\u001b[0m\u001b[0mw\u001b[0m\u001b[1;33m]\u001b[0m \u001b[1;33m+\u001b[0m \u001b[0mrevpath\u001b[0m\u001b[1;33m[\u001b[0m\u001b[1;36m1\u001b[0m\u001b[1;33m:\u001b[0m\u001b[1;33m]\u001b[0m\u001b[1;33m\u001b[0m\u001b[0m\n\u001b[1;32m-> 2025\u001b[1;33m     \u001b[1;32mraise\u001b[0m \u001b[0mnx\u001b[0m\u001b[1;33m.\u001b[0m\u001b[0mNetworkXNoPath\u001b[0m\u001b[1;33m(\u001b[0m\u001b[1;34m\"No path between %s and %s.\"\u001b[0m \u001b[1;33m%\u001b[0m \u001b[1;33m(\u001b[0m\u001b[0msource\u001b[0m\u001b[1;33m,\u001b[0m \u001b[0mtarget\u001b[0m\u001b[1;33m)\u001b[0m\u001b[1;33m)\u001b[0m\u001b[1;33m\u001b[0m\u001b[0m\n\u001b[0m\u001b[0;32m   2026\u001b[0m \u001b[1;33m\u001b[0m\u001b[0m\n\u001b[0;32m   2027\u001b[0m \u001b[1;33m\u001b[0m\u001b[0m\n",
      "\u001b[1;31mNetworkXNoPath\u001b[0m: No path between 2574465 and 1663756."
     ]
    }
   ],
   "source": [
    "# from networkx.algorithms.shortest_paths.weighted import bidirectional_dijkstra\n",
    "\n",
    "# with open(\"test-public.txt\") as f:\n",
    "#     lines = f.read().split('\\n')\n",
    "#     for line in lines[1:]:\n",
    "#         if line:\n",
    "#             pid, p1, p2 = [int(i) for i in line.split()]\n",
    "#             features = bidirectional_dijkstra(G, p1, p2)[0], *neighbour_features(p1, p2), katz(p1, p2)\n",
    "#             print(f\"{pid}: {features} {model.predict(np.array([features]))}\")"
   ]
  },
  {
   "cell_type": "code",
   "execution_count": null,
   "metadata": {},
   "outputs": [],
   "source": []
  }
 ],
 "metadata": {
  "kernelspec": {
   "display_name": "Python [conda env:MLNN3]",
   "language": "python",
   "name": "conda-env-MLNN3-py"
  },
  "language_info": {
   "codemirror_mode": {
    "name": "ipython",
    "version": 3
   },
   "file_extension": ".py",
   "mimetype": "text/x-python",
   "name": "python",
   "nbconvert_exporter": "python",
   "pygments_lexer": "ipython3",
   "version": "3.6.6"
  }
 },
 "nbformat": 4,
 "nbformat_minor": 2
}
